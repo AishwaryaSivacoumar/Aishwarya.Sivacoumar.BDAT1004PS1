{
 "cells": [
  {
   "cell_type": "code",
   "execution_count": 2,
   "id": "a0666296",
   "metadata": {},
   "outputs": [
    {
     "name": "stdout",
     "output_type": "stream",
     "text": [
      "<class 'int'>\n",
      "<class 'float'>\n",
      "True\n",
      "<class 'bool'>\n",
      "<class 'str'>\n",
      "10\n",
      "<class 'int'>\n",
      "55\n",
      "<class 'str'>\n",
      "52\n",
      "<class 'str'>\n",
      "2.5\n",
      "<class 'float'>\n",
      "1\n",
      "<class 'int'>\n",
      "<class 'set'>\n",
      "False\n",
      "<class 'bool'>\n",
      "3.141592653589793\n",
      "<class 'float'>\n"
     ]
    }
   ],
   "source": [
    "#1. To find datatype of each value\n",
    "#Code:\n",
    "\n",
    "a = 5\n",
    "b = 5.0\n",
    "c = 5>1\n",
    "d = '5'\n",
    "e = 5*2\n",
    "f = '5'*2\n",
    "g = '5'+'2'\n",
    "h = 5/2\n",
    "i = 5%2\n",
    "j = {5, 2, 1}\n",
    "k = 5==3\n",
    "import math\n",
    "l = (math.pi)\n",
    "\n",
    "print(type(a))\n",
    "print(type(b))\n",
    "#evaluation of Question c \n",
    "print(c)\n",
    "print(type(c))\n",
    "print(type(d))\n",
    "#evaluation of Question e\n",
    "print(e)\n",
    "print(type(e))\n",
    "#evaluation of Question f\n",
    "print(f)\n",
    "print(type(f))\n",
    "#evaluation of Question g\n",
    "print(g)\n",
    "print(type(g))\n",
    "#evaluation of Question h\n",
    "print(h)\n",
    "print(type(h))\n",
    "#evaluation of Question i\n",
    "print(i)\n",
    "print(type(i))\n",
    "print(type(j))\n",
    "#evaluation of Question k\n",
    "print(k)\n",
    "print(type(k))\n",
    "#evaluation of Question l\n",
    "print(l)\n",
    "print(type(l))"
   ]
  },
  {
   "cell_type": "code",
   "execution_count": 3,
   "id": "71b92505",
   "metadata": {},
   "outputs": [
    {
     "name": "stdout",
     "output_type": "stream",
     "text": [
      "The lenght of the string is 34\n"
     ]
    }
   ],
   "source": [
    "#2. a) How many letters are there in 'Supercalifragilisticexpialidocious'?\n",
    "\n",
    "#code: \n",
    "\n",
    "length = len('Supercalifragilisticexpialidocious')\n",
    "print(\"The lenght of the string is\", length)"
   ]
  },
  {
   "cell_type": "code",
   "execution_count": 4,
   "id": "abfee566",
   "metadata": {},
   "outputs": [
    {
     "name": "stdout",
     "output_type": "stream",
     "text": [
      "yes it is present\n"
     ]
    }
   ],
   "source": [
    "#2. b) Does 'Supercalifragilisticexpialidocious' contain 'ice' as a substring?\n",
    "\n",
    "#code :\n",
    "\n",
    "txt = \"Supercalifragilisticexpialidocious\"\n",
    "if 'ice' in txt:\n",
    " print(\"yes it is present\")\n",
    "else:\n",
    "    print(\"Not present\")"
   ]
  },
  {
   "cell_type": "code",
   "execution_count": 5,
   "id": "dc7663c1",
   "metadata": {},
   "outputs": [
    {
     "name": "stdout",
     "output_type": "stream",
     "text": [
      "The longest word is Supercalifragilisticexpialidocious\n"
     ]
    }
   ],
   "source": [
    "#2. c) Which of the following words is the longest: Supercalifragilisticexpialidocious, Honorificabilitudinitatibus, or Bababadalgharaghtakamminarronnkonn?\n",
    "\n",
    "txt = [\"Supercalifragilisticexpialidocious\", \"Honorificabilitudinitatibus\", \"Bababadalgharaghtakamminarronnkonn\"]\n",
    "max_len = len(txt[0])\n",
    "longest_word = txt[0]\n",
    "for i in txt:\n",
    "    if(len(i) > max_len):\n",
    "      max_len = len(i);\n",
    "      longest_word = i;\n",
    "print(\"The longest word is\", longest_word)"
   ]
  },
  {
   "cell_type": "code",
   "execution_count": 6,
   "id": "31a0eab4",
   "metadata": {},
   "outputs": [
    {
     "name": "stdout",
     "output_type": "stream",
     "text": [
      "The first composer is Berlioz \n",
      "The last composer is Bernstein\n"
     ]
    }
   ],
   "source": [
    "#2. d) Which composer comes first in the dictionary: 'Berlioz', 'Borodin', 'Brian', 'Bartok', 'Bellini', 'Buxtehude', 'Bernstein'. Which one comes last?\n",
    "\n",
    "#code : \n",
    "\n",
    "composers = ['Berlioz', 'Borodin', 'Brian', 'Bartok', 'Bellini', 'Buxtehude', 'Bernstein']\n",
    "print(\"The first composer is\", composers[0], \"\\n\" \"The last composer is\", composers[-1])"
   ]
  },
  {
   "cell_type": "code",
   "execution_count": 7,
   "id": "2e966538",
   "metadata": {},
   "outputs": [
    {
     "name": "stdout",
     "output_type": "stream",
     "text": [
      "Enter value a:2\n",
      "Enter value b:2\n",
      "Enter value c:2\n",
      "The area of the triangle is 1.7320508075688772\n"
     ]
    }
   ],
   "source": [
    "#3. Implement function triangleArea(a,b,c) that takes as input the lengths of the 3 sides of a triangle and returns the area of the triangle.\n",
    "\n",
    "#code : \n",
    "\n",
    "import math\n",
    "\n",
    "def triangleArea(a,b,c):\n",
    "    s = (a + b + c) / 2\n",
    "    temp1= (s*(s-a)*(s-b)*(s-c))\n",
    "    area = math.sqrt(temp1)\n",
    "    print(\"The area of the triangle is\",area)\n",
    "    \n",
    "a = float(input('Enter value a:'))\n",
    "b = float(input('Enter value b:'))\n",
    "c = float(input('Enter value c:'))\n",
    "\n",
    "triangleArea(a,b,c)"
   ]
  },
  {
   "cell_type": "code",
   "execution_count": 8,
   "id": "aa112c79",
   "metadata": {},
   "outputs": [
    {
     "name": "stdout",
     "output_type": "stream",
     "text": [
      "Input the number of elements to be stored in the array:5\n",
      "Enter the values\n",
      "556\n",
      "23\n",
      "98\n",
      "97\n",
      "1\n",
      "Even lists: [556, 98]\n",
      "Odd lists: [23, 97, 1]\n"
     ]
    }
   ],
   "source": [
    "#4. Write a program in python to separate odd and even integers in separate arrays. Go to the editor\n",
    "\n",
    "#Code:\n",
    "\n",
    "A=list()\n",
    "evenlist = [] \n",
    "oddlist = [] \n",
    "n=int(input(\"Input the number of elements to be stored in the array:\"))\n",
    "print(\"Enter the values\")\n",
    "for i in range(int(n)):\n",
    "   k=int(input(\"\"))\n",
    "   A.append(k)\n",
    "   \n",
    "for i in A: \n",
    "      if (i % 2 == 0): \n",
    "         evenlist.append(i) \n",
    "      else: \n",
    "         oddlist.append(i)\n",
    "print(\"Even lists:\", evenlist) \n",
    "print(\"Odd lists:\", oddlist) "
   ]
  },
  {
   "cell_type": "code",
   "execution_count": 9,
   "id": "1d92ad86",
   "metadata": {},
   "outputs": [
    {
     "name": "stdout",
     "output_type": "stream",
     "text": [
      "True\n",
      "False\n",
      "False\n"
     ]
    }
   ],
   "source": [
    "#5. a) Write a function inside(x,y,x1,y1,x2,y2) that returns True or False depending on whether the point (x,y) lies in the rectangle with lower left corner (x1,y1) and upper right corner (x2,y2).\n",
    "#code: Solution for Part a\n",
    "\n",
    "def inside(x,y,x1,y1,x2,y2):\n",
    "    if(x>x1 and x<x2):\n",
    "        if(y>y1 and y<y2):\n",
    "           return True\n",
    "    else:\n",
    "        return False\n",
    "    \n",
    "A = inside(1,1,0,0,2,3)\n",
    "print(A)\n",
    "B = inside(-1,-1,0,0,2,3)\n",
    "print(B)\n",
    "\n",
    "#5. b)Use function inside() from part a. to write an expression that tests whether the point (1,1) lies in both of the following rectangles: one with lower left corner (0.3, 0.5) and upper right corner (1.1, 0.7) and the other with lower left corner (0.5, 0.2) and upper right corner (1.1, 2).\n",
    "#code: Solution for Part b\n",
    "\n",
    "#First we have to check whether the point lies in the first rectangle\n",
    "C = inside(1,1,0.3,0.5,1.1,0.7)\n",
    "\n",
    "#Then we will check whether the point lies in the Second rectangle\n",
    "D = inside(1,1,0.5,0.2,1.1,2)\n",
    "\n",
    "E = (C == D)\n",
    "\n",
    "print(E)"
   ]
  },
  {
   "cell_type": "code",
   "execution_count": 43,
   "id": "60c59728",
   "metadata": {},
   "outputs": [
    {
     "name": "stdout",
     "output_type": "stream",
     "text": [
      "Enter any word : \n",
      " happy\n",
      "appyhay\n"
     ]
    }
   ],
   "source": [
    "#6 Write a function pig() that takes a word (a string) as input and returns its pigLatin form. Your function should still work if the input word contains upper case\n",
    "#characters.\n",
    "\n",
    "#Code:\n",
    "\n",
    "def pig(word):\n",
    "    if (word[0] == 'a' or word[0] == 'e' or word[0] == 'i' or word[0] == 'o' or word[0] == 'u'):\n",
    "        print(word +\"way\")\n",
    "    else:\n",
    "         temp = word[0]\n",
    "         res_word = word.replace(word[0],'',1)\n",
    "         temp = res_word + temp \n",
    "         print(temp + \"ay\")\n",
    "         \n",
    "str =input(\"Enter any word : \\n \")\n",
    "word = (str.lower())\n",
    "pig(word)"
   ]
  },
  {
   "cell_type": "code",
   "execution_count": 38,
   "id": "a8eb6888",
   "metadata": {},
   "outputs": [
    {
     "name": "stdout",
     "output_type": "stream",
     "text": [
      "There are 15 patients of bloodtype A\n",
      "There are 1 patients of bloodtype B\n",
      "There are 13 patients of bloodtype AB\n",
      "There are 15 patients of bloodtype O\n",
      "There are 0 patients of bloodtype OO\n"
     ]
    }
   ],
   "source": [
    "#7. File bloodtype1.txt records blood-types of patients (A, B, AB, O or OO) at a clinic. Write a function bldcount() that reads the file with name name and reports (i.e., prints) how many patients there are in each bloodtype.\n",
    "\n",
    "#Code: \n",
    "\n",
    "def bldcount(s):\n",
    "    file = open(s)\n",
    "    data = file.read()\n",
    "    bloodtypes = data.strip().split(' ')\n",
    "    valid_bloodtypes = [\"A\", \"B\", \"AB\", \"O\", \"OO\"]\n",
    "    counts = [0,0,0,0,0]\n",
    "    for bloodtype in bloodtypes:\n",
    "        if bloodtype in valid_bloodtypes:\n",
    "            index = valid_bloodtypes.index(bloodtype)\n",
    "            counts[index] = counts[index]+1\n",
    "    for i, bloodtype in enumerate(valid_bloodtypes):\n",
    "        print(\"There are\", counts[i], \"patients of bloodtype\", bloodtype)\n",
    "bldcount(\"bloodtype1.txt\")"
   ]
  },
  {
   "cell_type": "code",
   "execution_count": 42,
   "id": "6d8184ea",
   "metadata": {},
   "outputs": [
    {
     "name": "stdout",
     "output_type": "stream",
     "text": [
      "Converted amount in USD: 122.96544\n",
      "Converted amount in USD: 1.241401\n"
     ]
    }
   ],
   "source": [
    "#8 Write a function curconv() that takes as input:\n",
    "#1. a currency represented using a string (e.g., 'JPY' for the Japanese Yen or'EUR' for the Euro)\n",
    "#2. an amount\n",
    "#and then converts and returns the amount in US dollars.\n",
    "\n",
    "#Code:\n",
    "\n",
    "def curConv(Currency, value):\n",
    "    f = open(\"currencies.txt\")\n",
    "    lines = f.readlines()\n",
    "    for line in lines:\n",
    "        s = line.strip().split('\\t')\n",
    "        code = s[0]\n",
    "        convFactor = float(s[1])\n",
    "        name = s[2]\n",
    "        \n",
    "        if Currency == code:\n",
    "            return value * convFactor\n",
    "    \n",
    "print(\"Converted amount in USD:\", curConv('EUR', 100))\n",
    "print(\"Converted amount in USD:\", curConv('JPY', 100))"
   ]
  },
  {
   "cell_type": "code",
   "execution_count": 12,
   "id": "3abe7da4",
   "metadata": {},
   "outputs": [
    {
     "ename": "TypeError",
     "evalue": "unsupported operand type(s) for +: 'int' and 'str'",
     "output_type": "error",
     "traceback": [
      "\u001b[1;31m---------------------------------------------------------------------------\u001b[0m",
      "\u001b[1;31mTypeError\u001b[0m                                 Traceback (most recent call last)",
      "\u001b[1;32m~\\AppData\\Local\\Temp\\ipykernel_21412\\2043465020.py\u001b[0m in \u001b[0;36m<module>\u001b[1;34m\u001b[0m\n\u001b[0;32m      3\u001b[0m \u001b[1;31m#Code:\u001b[0m\u001b[1;33m\u001b[0m\u001b[1;33m\u001b[0m\u001b[0m\n\u001b[0;32m      4\u001b[0m \u001b[1;33m\u001b[0m\u001b[0m\n\u001b[1;32m----> 5\u001b[1;33m \u001b[0mprint\u001b[0m\u001b[1;33m(\u001b[0m\u001b[1;36m6\u001b[0m \u001b[1;33m+\u001b[0m\u001b[1;34m'a'\u001b[0m\u001b[1;33m)\u001b[0m\u001b[1;33m\u001b[0m\u001b[1;33m\u001b[0m\u001b[0m\n\u001b[0m",
      "\u001b[1;31mTypeError\u001b[0m: unsupported operand type(s) for +: 'int' and 'str'"
     ]
    }
   ],
   "source": [
    "#9 a). Trying to add incompatible variables, as in adding 6 + ‘a’ \n",
    "\n",
    "#Code:\n",
    "\n",
    "print(6 +'a')"
   ]
  },
  {
   "cell_type": "code",
   "execution_count": 13,
   "id": "95b12136",
   "metadata": {},
   "outputs": [
    {
     "ename": "IndexError",
     "evalue": "list index out of range",
     "output_type": "error",
     "traceback": [
      "\u001b[1;31m---------------------------------------------------------------------------\u001b[0m",
      "\u001b[1;31mIndexError\u001b[0m                                Traceback (most recent call last)",
      "\u001b[1;32m~\\AppData\\Local\\Temp\\ipykernel_21412\\1314894264.py\u001b[0m in \u001b[0;36m<module>\u001b[1;34m\u001b[0m\n\u001b[0;32m      4\u001b[0m \u001b[1;33m\u001b[0m\u001b[0m\n\u001b[0;32m      5\u001b[0m \u001b[0mA\u001b[0m\u001b[1;33m=\u001b[0m\u001b[1;33m[\u001b[0m\u001b[1;36m1\u001b[0m\u001b[1;33m,\u001b[0m\u001b[1;36m2\u001b[0m\u001b[1;33m,\u001b[0m\u001b[1;36m3\u001b[0m\u001b[1;33m,\u001b[0m\u001b[1;36m4\u001b[0m\u001b[1;33m,\u001b[0m\u001b[1;36m5\u001b[0m\u001b[1;33m,\u001b[0m\u001b[1;36m6\u001b[0m\u001b[1;33m,\u001b[0m\u001b[1;36m7\u001b[0m\u001b[1;33m,\u001b[0m\u001b[1;36m8\u001b[0m\u001b[1;33m,\u001b[0m\u001b[1;36m9\u001b[0m\u001b[1;33m,\u001b[0m\u001b[1;36m0\u001b[0m\u001b[1;33m]\u001b[0m\u001b[1;33m\u001b[0m\u001b[1;33m\u001b[0m\u001b[0m\n\u001b[1;32m----> 6\u001b[1;33m \u001b[0mprint\u001b[0m\u001b[1;33m(\u001b[0m\u001b[0mA\u001b[0m\u001b[1;33m[\u001b[0m\u001b[1;36m12\u001b[0m\u001b[1;33m]\u001b[0m\u001b[1;33m)\u001b[0m\u001b[1;33m\u001b[0m\u001b[1;33m\u001b[0m\u001b[0m\n\u001b[0m",
      "\u001b[1;31mIndexError\u001b[0m: list index out of range"
     ]
    }
   ],
   "source": [
    "#9 b). Referring to the 12th item of a list that has only 10 items\n",
    "\n",
    "#Code: \n",
    "\n",
    "A=[1,2,3,4,5,6,7,8,9,0]\n",
    "print(A[12])"
   ]
  },
  {
   "cell_type": "code",
   "execution_count": 14,
   "id": "9c3b0fea",
   "metadata": {},
   "outputs": [
    {
     "ename": "ValueError",
     "evalue": "math domain error",
     "output_type": "error",
     "traceback": [
      "\u001b[1;31m---------------------------------------------------------------------------\u001b[0m",
      "\u001b[1;31mValueError\u001b[0m                                Traceback (most recent call last)",
      "\u001b[1;32m~\\AppData\\Local\\Temp\\ipykernel_21412\\1209420286.py\u001b[0m in \u001b[0;36m<module>\u001b[1;34m\u001b[0m\n\u001b[0;32m      4\u001b[0m \u001b[1;33m\u001b[0m\u001b[0m\n\u001b[0;32m      5\u001b[0m \u001b[1;32mimport\u001b[0m \u001b[0mmath\u001b[0m\u001b[1;33m\u001b[0m\u001b[1;33m\u001b[0m\u001b[0m\n\u001b[1;32m----> 6\u001b[1;33m \u001b[0mprint\u001b[0m\u001b[1;33m(\u001b[0m\u001b[0mmath\u001b[0m\u001b[1;33m.\u001b[0m\u001b[0msqrt\u001b[0m\u001b[1;33m(\u001b[0m\u001b[1;33m-\u001b[0m\u001b[1;36m1.0\u001b[0m\u001b[1;33m)\u001b[0m\u001b[1;33m)\u001b[0m\u001b[1;33m\u001b[0m\u001b[1;33m\u001b[0m\u001b[0m\n\u001b[0m",
      "\u001b[1;31mValueError\u001b[0m: math domain error"
     ]
    }
   ],
   "source": [
    "#9 c). Using a value that is out of range for a function’s input, such as calling math.sqrt(-1.0)\n",
    "\n",
    "#code:\n",
    "\n",
    "import math\n",
    "print(math.sqrt(-1.0))"
   ]
  },
  {
   "cell_type": "code",
   "execution_count": 15,
   "id": "105cde1f",
   "metadata": {},
   "outputs": [
    {
     "ename": "NameError",
     "evalue": "name 'x' is not defined",
     "output_type": "error",
     "traceback": [
      "\u001b[1;31m---------------------------------------------------------------------------\u001b[0m",
      "\u001b[1;31mNameError\u001b[0m                                 Traceback (most recent call last)",
      "\u001b[1;32m~\\AppData\\Local\\Temp\\ipykernel_21412\\2318595412.py\u001b[0m in \u001b[0;36m<module>\u001b[1;34m\u001b[0m\n\u001b[0;32m      3\u001b[0m \u001b[1;31m#Code:\u001b[0m\u001b[1;33m\u001b[0m\u001b[1;33m\u001b[0m\u001b[0m\n\u001b[0;32m      4\u001b[0m \u001b[1;33m\u001b[0m\u001b[0m\n\u001b[1;32m----> 5\u001b[1;33m \u001b[0mprint\u001b[0m\u001b[1;33m(\u001b[0m\u001b[0mx\u001b[0m\u001b[1;33m)\u001b[0m\u001b[1;33m\u001b[0m\u001b[1;33m\u001b[0m\u001b[0m\n\u001b[0m",
      "\u001b[1;31mNameError\u001b[0m: name 'x' is not defined"
     ]
    }
   ],
   "source": [
    "#9 d). Using an undeclared variable, such as print(x) when x has not been defined \n",
    "\n",
    "#Code:\n",
    "\n",
    "print(x)"
   ]
  },
  {
   "cell_type": "code",
   "execution_count": 16,
   "id": "2a27c691",
   "metadata": {},
   "outputs": [
    {
     "ename": "FileNotFoundError",
     "evalue": "[Errno 2] No such file or directory: 'Textfile.txt'",
     "output_type": "error",
     "traceback": [
      "\u001b[1;31m---------------------------------------------------------------------------\u001b[0m",
      "\u001b[1;31mFileNotFoundError\u001b[0m                         Traceback (most recent call last)",
      "\u001b[1;32m~\\AppData\\Local\\Temp\\ipykernel_21412\\986502273.py\u001b[0m in \u001b[0;36m<module>\u001b[1;34m\u001b[0m\n\u001b[0;32m      3\u001b[0m \u001b[1;31m#Code:\u001b[0m\u001b[1;33m\u001b[0m\u001b[1;33m\u001b[0m\u001b[0m\n\u001b[0;32m      4\u001b[0m \u001b[1;33m\u001b[0m\u001b[0m\n\u001b[1;32m----> 5\u001b[1;33m \u001b[0mopen\u001b[0m\u001b[1;33m(\u001b[0m\u001b[1;34m\"Textfile.txt\"\u001b[0m\u001b[1;33m)\u001b[0m\u001b[1;33m\u001b[0m\u001b[1;33m\u001b[0m\u001b[0m\n\u001b[0m",
      "\u001b[1;31mFileNotFoundError\u001b[0m: [Errno 2] No such file or directory: 'Textfile.txt'"
     ]
    }
   ],
   "source": [
    "#9 e). Trying to open a file that does not exist, such as mistyping the file name or looking in the wrong directory. \n",
    "\n",
    "#Code:\n",
    "\n",
    "open(\"Textfile.txt\")"
   ]
  },
  {
   "cell_type": "code",
   "execution_count": 39,
   "id": "205f0c5f",
   "metadata": {},
   "outputs": [
    {
     "name": "stdout",
     "output_type": "stream",
     "text": [
      "[1, 1, 1, 3, 5, 1, 1, 2, 1, 0, 1, 0, 1, 2, 4, 0, 1, 2, 0, 2, 1, 0, 1, 1, 0, 0]\n",
      "[1, 0, 0, 0, 1, 0, 0, 0, 0, 0, 0, 1, 0, 0, 0, 2, 0, 0, 0, 0, 0, 0, 0, 0, 0, 0]\n"
     ]
    }
   ],
   "source": [
    "#10. #Question 10 - Write a function called frequencies() that takes a string as its only parameter, and returns a list of integers, showing the number of times each character appears in the text. Your function may ignore any characters that are not in letters.\n",
    "\n",
    "#Code: \n",
    "\n",
    "def frequencies(s):\n",
    "    letters= 'abcdefghijklmnopqrstuvwxyz'\n",
    "    a=[0]*26\n",
    "    for x in s :\n",
    "        if x in letters:\n",
    "            a[ord(x)-ord('a')]=a[ord(x)-ord('a')]+1\n",
    "    return a\n",
    "print(frequencies('The quick red fox got bored and went home.'))\n",
    "print(frequencies('apple'))"
   ]
  },
  {
   "cell_type": "code",
   "execution_count": null,
   "id": "dd373693",
   "metadata": {},
   "outputs": [],
   "source": []
  }
 ],
 "metadata": {
  "kernelspec": {
   "display_name": "Python 3 (ipykernel)",
   "language": "python",
   "name": "python3"
  },
  "language_info": {
   "codemirror_mode": {
    "name": "ipython",
    "version": 3
   },
   "file_extension": ".py",
   "mimetype": "text/x-python",
   "name": "python",
   "nbconvert_exporter": "python",
   "pygments_lexer": "ipython3",
   "version": "3.9.13"
  }
 },
 "nbformat": 4,
 "nbformat_minor": 5
}
